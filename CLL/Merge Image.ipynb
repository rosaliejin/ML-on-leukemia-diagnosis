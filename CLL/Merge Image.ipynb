{
 "cells": [
  {
   "cell_type": "code",
   "execution_count": 76,
   "metadata": {},
   "outputs": [],
   "source": [
    "list_1 = [\"28032\",\n",
    "\"14470\",\n",
    "\"16327\",\n",
    "\"20424\",\n",
    "\"7805\",\n",
    "\"19363\"]\n"
   ]
  },
  {
   "cell_type": "code",
   "execution_count": 77,
   "metadata": {},
   "outputs": [],
   "source": [
    "data = []\n",
    "for x in list_1:\n",
    "    data.append(\"figure/\"+x+\".png\")"
   ]
  },
  {
   "cell_type": "code",
   "execution_count": 78,
   "metadata": {},
   "outputs": [
    {
     "data": {
      "text/plain": [
       "['figure/28032.png',\n",
       " 'figure/14470.png',\n",
       " 'figure/16327.png',\n",
       " 'figure/20424.png',\n",
       " 'figure/7805.png',\n",
       " 'figure/19363.png']"
      ]
     },
     "execution_count": 78,
     "metadata": {},
     "output_type": "execute_result"
    }
   ],
   "source": [
    "data"
   ]
  },
  {
   "cell_type": "code",
   "execution_count": 79,
   "metadata": {},
   "outputs": [],
   "source": [
    "import sys\n",
    "from PIL import Image\n",
    "\n",
    "images = [Image.open(x) for x in data]\n",
    "widths, heights = zip(*(i.size for i in images))\n",
    "\n",
    "total_width = sum(widths)\n",
    "max_height = max(heights)\n",
    "\n",
    "new_im = Image.new('RGB', (total_width, max_height))\n",
    "\n",
    "x_offset = 0\n",
    "for im in images:\n",
    "  new_im.paste(im, (x_offset,0))\n",
    "  x_offset += im.size[0]\n",
    "\n",
    "new_im.save('merge11.jpg')"
   ]
  },
  {
   "cell_type": "code",
   "execution_count": null,
   "metadata": {},
   "outputs": [],
   "source": []
  },
  {
   "cell_type": "code",
   "execution_count": 80,
   "metadata": {},
   "outputs": [],
   "source": [
    "y = [\n",
    "0.0006,\n",
    "0.00087,\n",
    "0.0011,\n",
    "0.00111,\n",
    "0.00112,\n",
    "0.00136,\n",
    "0.00137,\n",
    "0.00139,\n",
    "0.0016,\n",
    "0.00162,\n",
    "0.00175,\n",
    "0.00187,\n",
    "0.002030248127160351,\n",
    "0.00207,\n",
    "0.0025,\n",
    "0.00259,\n",
    "0.00275,\n",
    "0.0028,\n",
    "0.00307,\n",
    "0.00317,\n",
    "0.0035,\n",
    "0.00368,\n",
    "0.00413,\n",
    "0.00478,\n",
    "0.00498,\n",
    "0.00521,\n",
    "0.00541,\n",
    "0.00546,\n",
    "0.00551,\n",
    "0.00552,\n",
    "0.00556,\n",
    "0.00571,\n",
    "0.00626,\n",
    "0.00628,\n",
    "0.00636,\n",
    "0.00712,\n",
    "0.00776,\n",
    "0.008,\n",
    "0.00832,\n",
    "0.00842,\n",
    "0.00876,\n",
    "0.009,\n",
    "0.009570284739659828,\n",
    "0.00994,\n",
    "0.01057,\n",
    "0.01246,\n",
    "0.01318,\n",
    "0.01376,\n",
    "0.01415,\n",
    "0.0143,\n",
    "0.01543,\n",
    "0.01767,\n",
    "0.01769,\n",
    "0.01798,\n",
    "0.02365,\n",
    "0.02404,\n",
    "0.02416,\n",
    "0.02795,\n",
    "0.28058,\n",
    "0.03221,\n",
    "0.05246,\n",
    "0.05253,\n",
    "0.05393,\n",
    "0.05407,\n",
    "0.0557,\n",
    "0.05695,\n",
    "0.05984,\n",
    "0.08117,\n",
    "0.08394,\n",
    "0.11215,\n",
    "0.14087,\n",
    "0.15013,\n",
    "0.16076,\n",
    "0.17184349349247408,\n",
    "0.21203,\n",
    "0.213,\n",
    "0.25572,\n",
    "0.25906,\n",
    "0.26899,\n",
    "0.31265,\n",
    "0.31746770210786246,\n",
    "0.32343,\n",
    "0.33612,\n",
    "0.42866,\n",
    "0.53556,\n",
    "0.55485]"
   ]
  },
  {
   "cell_type": "code",
   "execution_count": 81,
   "metadata": {},
   "outputs": [],
   "source": [
    "import numpy as np"
   ]
  },
  {
   "cell_type": "code",
   "execution_count": 82,
   "metadata": {},
   "outputs": [],
   "source": [
    "y = np.array(y)"
   ]
  },
  {
   "cell_type": "code",
   "execution_count": 83,
   "metadata": {},
   "outputs": [
    {
     "data": {
      "text/plain": [
       "array([0.0006    , 0.00087   , 0.0011    , 0.00111   , 0.00112   ,\n",
       "       0.00136   , 0.00137   , 0.00139   , 0.0016    , 0.00162   ,\n",
       "       0.00175   , 0.00187   , 0.00203025, 0.00207   , 0.0025    ,\n",
       "       0.00259   , 0.00275   , 0.0028    , 0.00307   , 0.00317   ,\n",
       "       0.0035    , 0.00368   , 0.00413   , 0.00478   , 0.00498   ,\n",
       "       0.00521   , 0.00541   , 0.00546   , 0.00551   , 0.00552   ,\n",
       "       0.00556   , 0.00571   , 0.00626   , 0.00628   , 0.00636   ,\n",
       "       0.00712   , 0.00776   , 0.008     , 0.00832   , 0.00842   ,\n",
       "       0.00876   , 0.009     , 0.00957028, 0.00994   , 0.01057   ,\n",
       "       0.01246   , 0.01318   , 0.01376   , 0.01415   , 0.0143    ,\n",
       "       0.01543   , 0.01767   , 0.01769   , 0.01798   , 0.02365   ,\n",
       "       0.02404   , 0.02416   , 0.02795   , 0.28058   , 0.03221   ,\n",
       "       0.05246   , 0.05253   , 0.05393   , 0.05407   , 0.0557    ,\n",
       "       0.05695   , 0.05984   , 0.08117   , 0.08394   , 0.11215   ,\n",
       "       0.14087   , 0.15013   , 0.16076   , 0.17184349, 0.21203   ,\n",
       "       0.213     , 0.25572   , 0.25906   , 0.26899   , 0.31265   ,\n",
       "       0.3174677 , 0.32343   , 0.33612   , 0.42866   , 0.53556   ,\n",
       "       0.55485   ])"
      ]
     },
     "execution_count": 83,
     "metadata": {},
     "output_type": "execute_result"
    }
   ],
   "source": [
    "y"
   ]
  },
  {
   "cell_type": "code",
   "execution_count": 106,
   "metadata": {},
   "outputs": [],
   "source": [
    "x = [1,\n",
    "0,\n",
    "1,\n",
    "1,\n",
    "1,\n",
    "1,\n",
    "1,\n",
    "1,\n",
    "0,\n",
    "1,\n",
    "1,\n",
    "0,\n",
    "0,\n",
    "0,\n",
    "1,\n",
    "0,\n",
    "1,\n",
    "1,\n",
    "1,\n",
    "0,\n",
    "1,\n",
    "1,\n",
    "1,\n",
    "0,\n",
    "0,\n",
    "0,\n",
    "0,\n",
    "1,\n",
    "1,\n",
    "0,\n",
    "0,\n",
    "0,\n",
    "0,\n",
    "1,\n",
    "0,\n",
    "0,\n",
    "0,\n",
    "1,\n",
    "0,\n",
    "1,\n",
    "0,\n",
    "0,\n",
    "1,\n",
    "0,\n",
    "0,\n",
    "0,\n",
    "0,\n",
    "1,\n",
    "0,\n",
    "1,\n",
    "0,\n",
    "0,\n",
    "1,\n",
    "1,\n",
    "1,\n",
    "1,\n",
    "0,\n",
    "0,\n",
    "0,\n",
    "0,\n",
    "1,\n",
    "1,\n",
    "1,\n",
    "1,\n",
    "1,\n",
    "1,\n",
    "1,\n",
    "1,\n",
    "1,\n",
    "1,\n",
    "1,\n",
    "1,\n",
    "1,\n",
    "1,\n",
    "1,\n",
    "1,\n",
    "1,\n",
    "1,\n",
    "1,\n",
    "1,\n",
    "1,\n",
    "1,\n",
    "1,\n",
    "1,\n",
    "1,\n",
    "1]"
   ]
  },
  {
   "cell_type": "code",
   "execution_count": 107,
   "metadata": {},
   "outputs": [],
   "source": [
    "final = []\n",
    "for i in y:\n",
    "    final.append([i])"
   ]
  },
  {
   "cell_type": "code",
   "execution_count": 108,
   "metadata": {},
   "outputs": [],
   "source": [
    "y = np.array(x)\n",
    "x = np.array(final)"
   ]
  },
  {
   "cell_type": "code",
   "execution_count": 109,
   "metadata": {},
   "outputs": [
    {
     "data": {
      "text/plain": [
       "array([[0.0006    ],\n",
       "       [0.00087   ],\n",
       "       [0.0011    ],\n",
       "       [0.00111   ],\n",
       "       [0.00112   ],\n",
       "       [0.00136   ],\n",
       "       [0.00137   ],\n",
       "       [0.00139   ],\n",
       "       [0.0016    ],\n",
       "       [0.00162   ],\n",
       "       [0.00175   ],\n",
       "       [0.00187   ],\n",
       "       [0.00203025],\n",
       "       [0.00207   ],\n",
       "       [0.0025    ],\n",
       "       [0.00259   ],\n",
       "       [0.00275   ],\n",
       "       [0.0028    ],\n",
       "       [0.00307   ],\n",
       "       [0.00317   ],\n",
       "       [0.0035    ],\n",
       "       [0.00368   ],\n",
       "       [0.00413   ],\n",
       "       [0.00478   ],\n",
       "       [0.00498   ],\n",
       "       [0.00521   ],\n",
       "       [0.00541   ],\n",
       "       [0.00546   ],\n",
       "       [0.00551   ],\n",
       "       [0.00552   ],\n",
       "       [0.00556   ],\n",
       "       [0.00571   ],\n",
       "       [0.00626   ],\n",
       "       [0.00628   ],\n",
       "       [0.00636   ],\n",
       "       [0.00712   ],\n",
       "       [0.00776   ],\n",
       "       [0.008     ],\n",
       "       [0.00832   ],\n",
       "       [0.00842   ],\n",
       "       [0.00876   ],\n",
       "       [0.009     ],\n",
       "       [0.00957028],\n",
       "       [0.00994   ],\n",
       "       [0.01057   ],\n",
       "       [0.01246   ],\n",
       "       [0.01318   ],\n",
       "       [0.01376   ],\n",
       "       [0.01415   ],\n",
       "       [0.0143    ],\n",
       "       [0.01543   ],\n",
       "       [0.01767   ],\n",
       "       [0.01769   ],\n",
       "       [0.01798   ],\n",
       "       [0.02365   ],\n",
       "       [0.02404   ],\n",
       "       [0.02416   ],\n",
       "       [0.02795   ],\n",
       "       [0.28058   ],\n",
       "       [0.03221   ],\n",
       "       [0.05246   ],\n",
       "       [0.05253   ],\n",
       "       [0.05393   ],\n",
       "       [0.05407   ],\n",
       "       [0.0557    ],\n",
       "       [0.05695   ],\n",
       "       [0.05984   ],\n",
       "       [0.08117   ],\n",
       "       [0.08394   ],\n",
       "       [0.11215   ],\n",
       "       [0.14087   ],\n",
       "       [0.15013   ],\n",
       "       [0.16076   ],\n",
       "       [0.17184349],\n",
       "       [0.21203   ],\n",
       "       [0.213     ],\n",
       "       [0.25572   ],\n",
       "       [0.25906   ],\n",
       "       [0.26899   ],\n",
       "       [0.31265   ],\n",
       "       [0.3174677 ],\n",
       "       [0.32343   ],\n",
       "       [0.33612   ],\n",
       "       [0.42866   ],\n",
       "       [0.53556   ],\n",
       "       [0.55485   ]])"
      ]
     },
     "execution_count": 109,
     "metadata": {},
     "output_type": "execute_result"
    }
   ],
   "source": [
    "x"
   ]
  },
  {
   "cell_type": "code",
   "execution_count": 114,
   "metadata": {},
   "outputs": [],
   "source": [
    "import matplotlib.pyplot as plt\n",
    "import numpy as np\n",
    "from sklearn.linear_model import LogisticRegression\n",
    "from sklearn.metrics import classification_report, confusion_matrix\n",
    "model = LogisticRegression(solver='liblinear', random_state=0)\n",
    "import seaborn as sns"
   ]
  },
  {
   "cell_type": "code",
   "execution_count": 111,
   "metadata": {},
   "outputs": [
    {
     "data": {
      "text/plain": [
       "LogisticRegression(random_state=0, solver='liblinear')"
      ]
     },
     "execution_count": 111,
     "metadata": {},
     "output_type": "execute_result"
    }
   ],
   "source": [
    "model.fit(x, y)"
   ]
  },
  {
   "cell_type": "code",
   "execution_count": 112,
   "metadata": {},
   "outputs": [
    {
     "data": {
      "text/plain": [
       "array([[1.33597701]])"
      ]
     },
     "execution_count": 112,
     "metadata": {},
     "output_type": "execute_result"
    }
   ],
   "source": [
    "model.coef_"
   ]
  },
  {
   "cell_type": "code",
   "execution_count": 116,
   "metadata": {},
   "outputs": [
    {
     "data": {
      "text/plain": [
       "<matplotlib.axes._subplots.AxesSubplot at 0x7fb850d838d0>"
      ]
     },
     "execution_count": 116,
     "metadata": {},
     "output_type": "execute_result"
    },
    {
     "data": {
      "image/png": "[encoded data removed]",
      "text/plain": [
       "<Figure size 432x288 with 1 Axes>"
      ]
     },
     "metadata": {
      "needs_background": "light"
     },
     "output_type": "display_data"
    }
   ],
   "source": [
    "sns.regplot(x=x, y=y,logistic=True, ci=None)"
   ]
  },
  {
   "cell_type": "code",
   "execution_count": 118,
   "metadata": {},
   "outputs": [
    {
     "name": "stdout",
     "output_type": "stream",
     "text": [
      "Optimization terminated successfully.\n",
      "         Current function value: 0.577872\n",
      "         Iterations 8\n",
      "                        Results: Logit\n",
      "===============================================================\n",
      "Model:              Logit            Pseudo R-squared: 0.125   \n",
      "Dependent Variable: y                AIC:              101.3939\n",
      "Date:               2022-11-05 22:52 BIC:              103.8483\n",
      "No. Observations:   86               Log-Likelihood:   -49.697 \n",
      "Df Model:           0                LL-Null:          -56.765 \n",
      "Df Residuals:       85               LLR p-value:      nan     \n",
      "Converged:          1.0000           Scale:            1.0000  \n",
      "No. Iterations:     8.0000                                     \n",
      "------------------------------------------------------------------\n",
      "       Coef.     Std.Err.      z       P>|z|     [0.025     0.975]\n",
      "------------------------------------------------------------------\n",
      "x1    12.8038      4.8255    2.6533    0.0080    3.3459    22.2617\n",
      "===============================================================\n",
      "\n"
     ]
    }
   ],
   "source": [
    "import statsmodels.api as sm\n",
    "logit_model=sm.Logit(y,x)\n",
    "result=logit_model.fit()\n",
    "print(result.summary2())"
   ]
  },
  {
   "cell_type": "code",
   "execution_count": 119,
   "metadata": {},
   "outputs": [
    {
     "data": {
      "text/plain": [
       "array([0.50192056, 0.5027848 , 0.50352099, 0.503553  , 0.50358501,\n",
       "       0.50435319, 0.50438519, 0.50444921, 0.50512135, 0.50518536,\n",
       "       0.50560143, 0.5059855 , 0.50649836, 0.50662559, 0.5080017 ,\n",
       "       0.50828971, 0.50880171, 0.50896171, 0.50982566, 0.51014563,\n",
       "       0.51120146, 0.51177733, 0.51321686, 0.51529578, 0.51593535,\n",
       "       0.51667079, 0.51731024, 0.51747009, 0.51762994, 0.51766191,\n",
       "       0.51778979, 0.51826931, 0.52002725, 0.52009116, 0.52034682,\n",
       "       0.52277502, 0.52481899, 0.52558526, 0.52660678, 0.52692595,\n",
       "       0.52801099, 0.52877675, 0.53059576, 0.5317746 , 0.53378253,\n",
       "       0.5397995 , 0.54208873, 0.54393155, 0.54517001, 0.54564619,\n",
       "       0.54923069, 0.55632082, 0.55638402, 0.5573003 , 0.57512935,\n",
       "       0.57634908, 0.57672419, 0.5885239 , 0.97320799, 0.60166582,\n",
       "       0.66188105, 0.6620816 , 0.6660803 , 0.66647888, 0.67110178,\n",
       "       0.67462469, 0.68269403, 0.73871214, 0.7454996 , 0.80782636,\n",
       "       0.8585955 , 0.87238764, 0.88678774, 0.90027215, 0.93789391,\n",
       "       0.93861342, 0.96353273, 0.96500595, 0.96905464, 0.98206868,\n",
       "       0.98312325, 0.98434425, 0.98666078, 0.99588291, 0.99894926,\n",
       "       0.99917902])"
      ]
     },
     "execution_count": 119,
     "metadata": {},
     "output_type": "execute_result"
    }
   ],
   "source": [
    "result.predict(x)"
   ]
  },
  {
   "cell_type": "code",
   "execution_count": 120,
   "metadata": {},
   "outputs": [
    {
     "data": {
      "text/plain": [
       "array([1, 1, 1, 1, 1, 1, 1, 1, 1, 1, 1, 1, 1, 1, 1, 1, 1, 1, 1, 1, 1, 1,\n",
       "       1, 1, 1, 1, 1, 1, 1, 1, 1, 1, 1, 1, 1, 1, 1, 1, 1, 1, 1, 1, 1, 1,\n",
       "       1, 1, 1, 1, 1, 1, 1, 1, 1, 1, 1, 1, 1, 1, 1, 1, 1, 1, 1, 1, 1, 1,\n",
       "       1, 1, 1, 1, 1, 1, 1, 1, 1, 1, 1, 1, 1, 1, 1, 1, 1, 1, 1, 1])"
      ]
     },
     "execution_count": 120,
     "metadata": {},
     "output_type": "execute_result"
    }
   ],
   "source": [
    "(result.predict(x) >= 0.5).astype(int)"
   ]
  },
  {
   "cell_type": "code",
   "execution_count": null,
   "metadata": {},
   "outputs": [],
   "source": []
  }
 ],
 "metadata": {
  "kernelspec": {
   "display_name": "Python 3",
   "language": "python",
   "name": "python3"
  },
  "language_info": {
   "codemirror_mode": {
    "name": "ipython",
    "version": 3
   },
   "file_extension": ".py",
   "mimetype": "text/x-python",
   "name": "python",
   "nbconvert_exporter": "python",
   "pygments_lexer": "ipython3",
   "version": "3.7.4"
  }
 },
 "nbformat": 4,
 "nbformat_minor": 2
}
