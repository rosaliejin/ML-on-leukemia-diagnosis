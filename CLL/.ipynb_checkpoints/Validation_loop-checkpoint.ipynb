{
 "cells": [
  {
   "cell_type": "markdown",
   "metadata": {},
   "source": [
    "Code usinng for removing the last column:\n",
    " for i in *.txt; do rev $i | cut -d$'\\t' -f 2- | rev > $i.txt; done"
   ]
  },
  {
   "cell_type": "code",
   "execution_count": 9,
   "metadata": {},
   "outputs": [],
   "source": [
    "import numpy as np\n",
    "np.set_printoptions(suppress=True)\n",
    "import pandas as pd\n",
    "from sklearn.cluster import KMeans\n",
    "from scipy.stats import ranksums\n",
    "import matplotlib.pyplot as plt\n",
    "%matplotlib inline\n",
    "import random"
   ]
  },
  {
   "cell_type": "code",
   "execution_count": 10,
   "metadata": {},
   "outputs": [],
   "source": [
    "import warnings\n",
    "warnings.filterwarnings(\"ignore\", category=FutureWarning)\n",
    "warnings.filterwarnings(\"ignore\", category=DeprecationWarning)\n",
    "warnings.filterwarnings(\"ignore\", category=RuntimeWarning)\n"
   ]
  },
  {
   "cell_type": "code",
   "execution_count": 11,
   "metadata": {},
   "outputs": [],
   "source": [
    "#Originial center\n",
    "center = np.loadtxt(\"CLL-center.txt\")"
   ]
  },
  {
   "cell_type": "code",
   "execution_count": 12,
   "metadata": {},
   "outputs": [],
   "source": [
    "list_to_run = [\"9568\",\n",
    "\"21597\",\n",
    "\"22663\",\n",
    "\"29896\",\n",
    "\"5807\",\n",
    "\"22158\",\n",
    "\"15032\",\n",
    "\"24046\",\n",
    "\"25067\",\n",
    "\"26099\",\n",
    "\"19252\",\n",
    "\"20307\",\n",
    "\"24830\",\n",
    "\"28047\",\n",
    "\"28066\",\n",
    "\"28476\",\n",
    "\"29593\",\n",
    "\"8372\",\n",
    "\"9531\",\n",
    "\"19328\",\n",
    "\"20268\",\n",
    "\"25451\",\n",
    "\"29842\",\n",
    "\"29876\",\n",
    "\"5071\",\n",
    "\"17988\",\n",
    "\"8385\",\n",
    "\"8485\",\n",
    "\"20121\",\n",
    "\"29881\",\n",
    "\"30089\",\n",
    "\"29860\",\n",
    "\"5832\",\n",
    "\"6541\",\n",
    "\"7420\",\n",
    "\"7725\",\n",
    "\"13045\",\n",
    "\"13088\",\n",
    "\"19830\",\n",
    "\"19833\",\n",
    "\"20706\",\n",
    "\"24215\",\n",
    "\"25424\",\n",
    "\"26129\",\n",
    "\"6535\",\n",
    "\"19303\",\n",
    "\"22936\",\n",
    "\"23172\",\n",
    "\"30034\",\n",
    "\"8604\",\n",
    "\"9444\",\n",
    "\"9462\",\n",
    "\"15030\",\n",
    "\"20218\",\n",
    "\"24196\",\n",
    "\"28856\",\n",
    "\"18140\",\n",
    "\"18515\",\n",
    "\"19494\",\n",
    "\"19633\",\n",
    "\"24084\",\n",
    "\"25664\",\n",
    "\"26450\",\n",
    "\"28707\",\n",
    "\"7495\",\n",
    "\"19256\",\n",
    "\"15058\",\n",
    "\"9422\",\n",
    "\"16331\",\n",
    "\"20735\",\n",
    "\"23184\",\n",
    "\"24242\",\n",
    "\"24793\",\n",
    "\"9343\",\n",
    "\"21741\",\n",
    "\"24477\",\n",
    "\"26207\",\n",
    "\"29515\",\n",
    "\"5121\",\n",
    "\"18736\",\n",
    "\"28032\",\n",
    "\"14470\",\n",
    "\"16327\",\n",
    "\"20424\",\n",
    "\"7805\",\n",
    "\"19363\"]"
   ]
  },
  {
   "cell_type": "code",
   "execution_count": 13,
   "metadata": {},
   "outputs": [
    {
     "data": {
      "text/plain": [
       "86"
      ]
     },
     "execution_count": 13,
     "metadata": {},
     "output_type": "execute_result"
    }
   ],
   "source": [
    "len(list_to_run)"
   ]
  },
  {
   "cell_type": "code",
   "execution_count": 14,
   "metadata": {},
   "outputs": [],
   "source": [
    "cluster = [6,18,28,44,73,87,25,70,12,15,17,24,56,96]"
   ]
  },
  {
   "cell_type": "code",
   "execution_count": 15,
   "metadata": {},
   "outputs": [],
   "source": [
    "output = []"
   ]
  },
  {
   "cell_type": "code",
   "execution_count": 16,
   "metadata": {},
   "outputs": [],
   "source": [
    "record = []"
   ]
  },
  {
   "cell_type": "code",
   "execution_count": 17,
   "metadata": {},
   "outputs": [],
   "source": [
    "proportion = []"
   ]
  },
  {
   "cell_type": "code",
   "execution_count": null,
   "metadata": {},
   "outputs": [],
   "source": [
    "for a in list_to_run:\n",
    "    print(a)\n",
    "    data = pd.read_csv(\"testing/\"+a+\".txt.txt\",sep = \"\\t\")\n",
    "\n",
    "    #train kmeans with new data\n",
    "    data = data.to_numpy()\n",
    "    kmeans = KMeans(n_clusters=100,init=center, random_state=0, max_iter=2)\n",
    "    kmeans.fit(data)\n",
    "    label = kmeans.labels_\n",
    "    L = label.shape\n",
    "    \n",
    "    tumor = []\n",
    "    healthy = []\n",
    "    \n",
    "    for i in range(0,len(label)):\n",
    "        if label[i] in cluster:\n",
    "            tumor.append(data[i])\n",
    "        else:\n",
    "            healthy.append(data[i])\n",
    "        \n",
    "        \n",
    "    healthy = np.array(healthy)\n",
    "    tumor = np.array(tumor)\n",
    "    \n",
    "    idx = random.sample(range(len(healthy)), int(len(healthy)*0.2))\n",
    "    healthy = healthy[idx]\n",
    "    if(len(tumor)>100):\n",
    "        idx = random.sample(range(len(tumor)), int(len(tumor)*0.2))\n",
    "    tumor = tumor[idx]\n",
    "    \n",
    "\n",
    "\n",
    "    fig, axs = plt.subplots(2,figsize=(3,6))\n",
    "    fig.suptitle('Cancer cell distribution for sample '+a)\n",
    "\n",
    "\n",
    "\n",
    "    for x1,y1 in zip(healthy[:,8], healthy[:,9]):\n",
    "        axs[0].plot(x1,y1,\"o\",color=\"blue\", alpha=0.7,  markersize = 2)\n",
    "    \n",
    "    for x1,y1 in zip(tumor[:,8], tumor[:,9]):\n",
    "        axs[0].plot(x1,y1,\"o\",color=\"red\", alpha=0.7,  markersize = 2)    \n",
    "    axs[0].set(xlabel='CD5', ylabel='CD19' )\n",
    "    \n",
    "\n",
    "    for x2,y2 in zip(healthy[:,13], healthy[:,10]):\n",
    "        axs[1].plot(x2,y2,\"o\",color=\"blue\", alpha=0.7,  markersize=2)\n",
    "    \n",
    "    for x2,y2 in zip(tumor[:,13], tumor[:,10]):\n",
    "        axs[1].plot(x2,y2,\"o\",color=\"red\", alpha=0.7,  markersize=2)\n",
    "    axs[1].set(xlabel='CD10', ylabel='CD79b' )\n",
    "\n",
    "    plt.savefig(a+\".png\",bbox_inches=\"tight\")\n",
    "    plt.show()\n"
   ]
  },
  {
   "cell_type": "code",
   "execution_count": 24,
   "metadata": {},
   "outputs": [
    {
     "data": {
      "text/plain": [
       "10711"
      ]
     },
     "execution_count": 24,
     "metadata": {},
     "output_type": "execute_result"
    }
   ],
   "source": [
    "len(tumor)"
   ]
  }
 ],
 "metadata": {
  "kernelspec": {
   "display_name": "Python 3",
   "language": "python",
   "name": "python3"
  },
  "language_info": {
   "codemirror_mode": {
    "name": "ipython",
    "version": 3
   },
   "file_extension": ".py",
   "mimetype": "text/x-python",
   "name": "python",
   "nbconvert_exporter": "python",
   "pygments_lexer": "ipython3",
   "version": "3.7.4"
  },
  "vscode": {
   "interpreter": {
    "hash": "767d51c1340bd893661ea55ea3124f6de3c7a262a8b4abca0554b478b1e2ff90"
   }
  }
 },
 "nbformat": 4,
 "nbformat_minor": 5
}
