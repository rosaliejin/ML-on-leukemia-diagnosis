{
 "cells": [
  {
   "cell_type": "markdown",
   "metadata": {},
   "source": [
    "Code usinng for removing the last column:\n",
    " for i in *.txt; do rev $i | cut -d$'\\t' -f 2- | rev > $i.txt; done"
   ]
  },
  {
   "cell_type": "code",
   "execution_count": 1,
   "metadata": {},
   "outputs": [
    {
     "name": "stderr",
     "output_type": "stream",
     "text": [
      "/Users/rosalie/opt/anaconda3/lib/python3.7/site-packages/matplotlib/__init__.py:1003: UserWarning: Duplicate key in file \"/Users/rosalie/.matplotlib/matplotlibrc\", line #2\n",
      "  (fname, cnt))\n"
     ]
    }
   ],
   "source": [
    "import numpy as np\n",
    "np.set_printoptions(suppress=True)\n",
    "import pandas as pd\n",
    "from sklearn.cluster import KMeans\n",
    "from scipy.stats import ranksums"
   ]
  },
  {
   "cell_type": "code",
   "execution_count": 2,
   "metadata": {},
   "outputs": [],
   "source": [
    "import warnings\n",
    "warnings.filterwarnings(\"ignore\", category=FutureWarning)\n",
    "warnings.filterwarnings(\"ignore\", category=DeprecationWarning)\n",
    "warnings.filterwarnings(\"ignore\", category=RuntimeWarning)\n"
   ]
  },
  {
   "cell_type": "code",
   "execution_count": 3,
   "metadata": {},
   "outputs": [],
   "source": [
    "#Originial center\n",
    "center = np.loadtxt(\"CLL-center.txt\")"
   ]
  },
  {
   "cell_type": "code",
   "execution_count": 4,
   "metadata": {},
   "outputs": [],
   "source": [
    "list_to_run = [\"9568\",\n",
    "\"21597\",\n",
    "\"22663\",\n",
    "\"29896\",\n",
    "\"5807\",\n",
    "\"22158\",\n",
    "\"15032\",\n",
    "\"24046\",\n",
    "\"25067\",\n",
    "\"26099\",\n",
    "\"19252\",\n",
    "\"20307\",\n",
    "\"24830\",\n",
    "\"28047\",\n",
    "\"28066\",\n",
    "\"28476\",\n",
    "\"29593\",\n",
    "\"8372\",\n",
    "\"9531\",\n",
    "\"19328\",\n",
    "\"20268\",\n",
    "\"25451\",\n",
    "\"29842\",\n",
    "\"29876\",\n",
    "\"5071\",\n",
    "\"17988\",\n",
    "\"8385\",\n",
    "\"8485\",\n",
    "\"20121\",\n",
    "\"29881\",\n",
    "\"30089\",\n",
    "\"29860\",\n",
    "\"5832\",\n",
    "\"6541\",\n",
    "\"7420\",\n",
    "\"7725\",\n",
    "\"13045\",\n",
    "\"13088\",\n",
    "\"19830\",\n",
    "\"19833\",\n",
    "\"20706\",\n",
    "\"24215\",\n",
    "\"25424\",\n",
    "\"26129\",\n",
    "\"6535\",\n",
    "\"19303\",\n",
    "\"22936\",\n",
    "\"23172\",\n",
    "\"30034\",\n",
    "\"8604\",\n",
    "\"9444\",\n",
    "\"9462\",\n",
    "\"15030\",\n",
    "\"20218\",\n",
    "\"24196\",\n",
    "\"28856\",\n",
    "\"18140\",\n",
    "\"18515\",\n",
    "\"19494\",\n",
    "\"19633\",\n",
    "\"24084\",\n",
    "\"25664\",\n",
    "\"26450\",\n",
    "\"28707\",\n",
    "\"7495\",\n",
    "\"19256\",\n",
    "\"15058\",\n",
    "\"9422\",\n",
    "\"16331\",\n",
    "\"20735\",\n",
    "\"23184\",\n",
    "\"24242\",\n",
    "\"24793\",\n",
    "\"9343\",\n",
    "\"21741\",\n",
    "\"24477\",\n",
    "\"26207\",\n",
    "\"29515\",\n",
    "\"5121\",\n",
    "\"18736\",\n",
    "\"28032\",\n",
    "\"14470\",\n",
    "\"16327\",\n",
    "\"20424\",\n",
    "\"7805\",\n",
    "\"19363\"]"
   ]
  },
  {
   "cell_type": "code",
   "execution_count": 5,
   "metadata": {},
   "outputs": [
    {
     "data": {
      "text/plain": [
       "86"
      ]
     },
     "execution_count": 5,
     "metadata": {},
     "output_type": "execute_result"
    }
   ],
   "source": [
    "len(list_to_run)"
   ]
  },
  {
   "cell_type": "code",
   "execution_count": 6,
   "metadata": {},
   "outputs": [],
   "source": [
    "cluster = [6,18,28,44,73,87,25,70,12,15,17,24,56,96]"
   ]
  },
  {
   "cell_type": "code",
   "execution_count": 7,
   "metadata": {},
   "outputs": [],
   "source": [
    "output = []"
   ]
  },
  {
   "cell_type": "code",
   "execution_count": 8,
   "metadata": {},
   "outputs": [],
   "source": [
    "record = []"
   ]
  },
  {
   "cell_type": "code",
   "execution_count": 9,
   "metadata": {},
   "outputs": [],
   "source": [
    "proportion = []"
   ]
  },
  {
   "cell_type": "code",
   "execution_count": 10,
   "metadata": {},
   "outputs": [
    {
     "name": "stdout",
     "output_type": "stream",
     "text": [
      "             FSC-A        FSC-H        FSC-W        SSC-A        SSC-H  \\\n",
      "0      2310.920048  1942.603741  1217.852258   651.688026   502.799091   \n",
      "1      2174.745538  1873.245678  1188.523117   737.929661   586.450539   \n",
      "2      1907.010016  1591.861267  1226.427069  2091.721623  1650.565681   \n",
      "3      1819.843069  1601.827583  1163.086701   440.221721   354.991436   \n",
      "4      1490.965252  1379.288177  1106.640037   249.405495   216.993885   \n",
      "...            ...          ...          ...          ...          ...   \n",
      "99995  1806.253981  1631.523457  1133.390096   511.109409   444.157162   \n",
      "99996  2089.450693  1830.927887  1168.301126   519.792134   402.682915   \n",
      "99997  2484.351329  2131.979370  1192.954652   703.071413   564.346561   \n",
      "99998  1594.779988  1440.163937  1133.659806   330.223589   285.086632   \n",
      "99999  2181.515125  1900.973282  1174.832979   612.985013   498.159599   \n",
      "\n",
      "             SSC-W         CD45         CD22          CD5         CD19  \\\n",
      "0      1326.903021  3014.082840  1685.908990  2555.309613  2605.975582   \n",
      "1      1288.182862  2922.215094  1530.450512  2666.698875  2467.391517   \n",
      "2      1297.373489  2718.322672   521.382701  1782.007708  1650.541519   \n",
      "3      1269.543249  2847.080889  2199.442386  2249.609741  2673.312175   \n",
      "4      1176.663952  2533.772992  1466.754153  1381.336090  2201.919878   \n",
      "...            ...          ...          ...          ...          ...   \n",
      "99995  1178.070103  2839.904872  2005.511410  2244.670227  2573.535395   \n",
      "99996  1321.479418  2915.671541  1877.800836  2306.937293  2334.504253   \n",
      "99997  1275.403146  2950.813985  1395.549355  2545.423802  2292.893518   \n",
      "99998  1185.837493  2665.087146  1533.347629  2039.101100  2297.327717   \n",
      "99999  1259.723625  2964.032640  2196.198343  2552.190498  2465.277788   \n",
      "\n",
      "             CD79b          CD3         CD81         CD10         CD43  \\\n",
      "0      1577.852646  1666.651129  1123.918146  1161.094462  2063.020149   \n",
      "1      1755.257838  2058.711526  1854.612496   857.727533  2079.581265   \n",
      "2      1243.473448  1264.921598   864.550547  2621.759671  2420.841409   \n",
      "3      1227.407380  1379.423234  1461.789189   572.244847   802.887243   \n",
      "4      1333.060509    25.980291  1356.505725   771.611022   827.512923   \n",
      "...            ...          ...          ...          ...          ...   \n",
      "99995  1595.345735  1770.287468  1154.821922   969.916546  1397.735524   \n",
      "99996  1405.430257  1644.049531  1143.465392   915.497259  1107.020671   \n",
      "99997  1710.926038  1882.041924  1712.047149  1066.808119  2179.441744   \n",
      "99998  1531.616189  1473.955958  1563.413631   541.035209  1844.525266   \n",
      "99999  2292.195095  1907.879249  1497.085706   819.527345  1270.887821   \n",
      "\n",
      "              CD38  \n",
      "0       619.643353  \n",
      "1       143.306768  \n",
      "2      1505.103751  \n",
      "3       371.709982  \n",
      "4       616.018506  \n",
      "...            ...  \n",
      "99995   796.362639  \n",
      "99996   155.093286  \n",
      "99997    55.062483  \n",
      "99998   837.157137  \n",
      "99999   222.482587  \n",
      "\n",
      "[100000 rows x 16 columns]\n"
     ]
    }
   ],
   "source": [
    "data = pd.read_csv(\"testing/9568.txt.txt\",sep = \"\\t\")\n",
    "\n",
    "print(data)"
   ]
  },
  {
   "cell_type": "code",
   "execution_count": 11,
   "metadata": {},
   "outputs": [],
   "source": [
    "\n",
    "#train kmeans with new data\n",
    "data = data.to_numpy()\n",
    "kmeans = KMeans(n_clusters=100,init=center, random_state=0, max_iter=2)\n",
    "kmeans.fit(data)\n",
    "label = kmeans.labels_\n",
    "L = label.shape\n"
   ]
  },
  {
   "cell_type": "code",
   "execution_count": 12,
   "metadata": {},
   "outputs": [],
   "source": [
    "tumor = []\n",
    "healthy = []"
   ]
  },
  {
   "cell_type": "code",
   "execution_count": 13,
   "metadata": {},
   "outputs": [],
   "source": [
    "for i in range(0,len(label)):\n",
    "    if label[i] in cluster:\n",
    "        tumor.append(data[i])\n",
    "    else:\n",
    "        healthy.append(data[i])"
   ]
  },
  {
   "cell_type": "code",
   "execution_count": 16,
   "metadata": {},
   "outputs": [],
   "source": [
    "healthy = np.array(healthy)\n",
    "tumor = np.array(tumor)\n",
    "import random\n",
    "idx = random.sample(range(len(healthy)), int(len(healthy)*0.2))\n",
    "healthy = healthy[idx]\n",
    "if(len(tumor)>100):\n",
    "    idx = random.sample(range(len(tumor)), int(len(tumor)*0.2))\n",
    "    tumor = tumor[idx]"
   ]
  },
  {
   "cell_type": "code",
   "execution_count": 24,
   "metadata": {},
   "outputs": [
    {
     "data": {
      "text/plain": [
       "10711"
      ]
     },
     "execution_count": 24,
     "metadata": {},
     "output_type": "execute_result"
    }
   ],
   "source": [
    "len(tumor)"
   ]
  },
  {
   "cell_type": "code",
   "execution_count": 28,
   "metadata": {},
   "outputs": [
    {
     "data": {
      "image/png": "[encoded data removed]",
      "text/plain": [
       "<Figure size 216x432 with 2 Axes>"
      ]
     },
     "metadata": {
      "needs_background": "light"
     },
     "output_type": "display_data"
    }
   ],
   "source": [
    "import numpy as np\n",
    "import matplotlib.pyplot as plt\n",
    "%matplotlib inline\n",
    "\n",
    "fig, axs = plt.subplots(2,figsize=(3,6))\n",
    "fig.suptitle('Cancer cell distribution for sample 9568')\n",
    "\n",
    "\n",
    "\n",
    "for x1,y1 in zip(healthy[:,8], healthy[:,9]):\n",
    "    axs[0].plot(x1,y1,\"o\",color=\"blue\", alpha=0.7,  markersize = 2)\n",
    "    \n",
    "for x1,y1 in zip(tumor[:,8], tumor[:,9]):\n",
    "    axs[0].plot(x1,y1,\"o\",color=\"red\", alpha=0.7,  markersize = 2)    \n",
    "axs[0].set(xlabel='CD5', ylabel='CD19' )\n",
    "    \n",
    "\n",
    "for x2,y2 in zip(healthy[:,13], healthy[:,10]):\n",
    "    axs[1].plot(x2,y2,\"o\",color=\"blue\", alpha=0.7,  markersize=2)\n",
    "    \n",
    "for x2,y2 in zip(tumor[:,13], tumor[:,10]):\n",
    "    axs[1].plot(x2,y2,\"o\",color=\"red\", alpha=0.7,  markersize=2)\n",
    "axs[1].set(xlabel='CD10', ylabel='CD79b' )\n",
    "\n",
    "plt.savefig(\"9568.png\",bbox_inches=\"tight\")\n",
    "plt.show()\n"
   ]
  },
  {
   "cell_type": "code",
   "execution_count": 26,
   "metadata": {},
   "outputs": [
    {
     "data": {
      "text/plain": [
       "<Figure size 432x288 with 0 Axes>"
      ]
     },
     "metadata": {},
     "output_type": "display_data"
    }
   ],
   "source": [
    "plt.savefig(\"foo.png\")"
   ]
  },
  {
   "cell_type": "code",
   "execution_count": null,
   "metadata": {
    "scrolled": false
   },
   "outputs": [],
   "source": [
    "for a in list_to_run:\n",
    "\n",
    "    data = pd.read_csv(\"Testing/\"+a+\".txt.txt\",sep = \"\\t\")\n",
    "\n",
    "    print(data)\n",
    "    #train kmeans with new data\n",
    "    data = data.to_numpy()\n",
    "    kmeans = KMeans(n_clusters=100,init=center, random_state=0, max_iter=2)\n",
    "    kmeans.fit(data)\n",
    "    label = kmeans.labels_\n",
    "    L = label.shape\n",
    "    \n",
    "    \n",
    "    \n",
    "    #record the number of cells in each clusters\n",
    "    (unique, counts) = np.unique(label, return_counts=True)\n",
    "    frequencies = np.asarray((unique, counts)).T\n",
    "\n",
    "    #calculate tumor burden\n",
    "    s = 0\n",
    "    for c in cluster:\n",
    "        s = frequencies[c][1]+s\n",
    "    output.append(s/L)\n",
    "    \n",
    "    #calculate total cell number\n",
    "    \n",
    "    #cell cluster proportion calculation\n",
    "    freqlist = np.empty([1,100])\n",
    "    for f in frequencies:\n",
    "        np.append(freqlist,f[1]/L)\n",
    "    record.append(frequencies)\n",
    "    proportion.append(freqlist)"
   ]
  },
  {
   "cell_type": "code",
   "execution_count": 30,
   "metadata": {},
   "outputs": [
    {
     "name": "stdout",
     "output_type": "stream",
     "text": [
      "0\n",
      "1\n",
      "2\n",
      "3\n",
      "4\n"
     ]
    }
   ],
   "source": [
    "a = range(5)\n",
    "for i in a:\n",
    "    print(i)"
   ]
  },
  {
   "cell_type": "code",
   "execution_count": null,
   "metadata": {},
   "outputs": [],
   "source": []
  }
 ],
 "metadata": {
  "kernelspec": {
   "display_name": "Python 3",
   "language": "python",
   "name": "python3"
  },
  "language_info": {
   "codemirror_mode": {
    "name": "ipython",
    "version": 3
   },
   "file_extension": ".py",
   "mimetype": "text/x-python",
   "name": "python",
   "nbconvert_exporter": "python",
   "pygments_lexer": "ipython3",
   "version": "3.7.4"
  },
  "vscode": {
   "interpreter": {
    "hash": "767d51c1340bd893661ea55ea3124f6de3c7a262a8b4abca0554b478b1e2ff90"
   }
  }
 },
 "nbformat": 4,
 "nbformat_minor": 5
}
