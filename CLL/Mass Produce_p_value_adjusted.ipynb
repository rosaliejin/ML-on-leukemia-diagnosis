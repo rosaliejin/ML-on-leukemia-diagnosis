{
 "cells": [
  {
   "cell_type": "markdown",
   "id": "37f425dc",
   "metadata": {},
   "source": [
    "Code usinng for removing the last column:\n",
    " for i in *.txt; do rev $i | cut -d$'\\t' -f 2- | rev > $i.txt; done"
   ]
  },
  {
   "cell_type": "code",
   "execution_count": 2,
   "id": "4efc4c39",
   "metadata": {},
   "outputs": [],
   "source": [
    "import numpy as np\n",
    "np.set_printoptions(suppress=True)\n",
    "import pandas as pd\n",
    "from sklearn.cluster import KMeans\n",
    "from scipy.stats import ranksums"
   ]
  },
  {
   "cell_type": "code",
   "execution_count": 3,
   "id": "8ea5e339",
   "metadata": {},
   "outputs": [],
   "source": [
    "import warnings\n",
    "warnings.filterwarnings(\"ignore\", category=FutureWarning)\n",
    "warnings.filterwarnings(\"ignore\", category=DeprecationWarning)\n",
    "warnings.filterwarnings(\"ignore\", category=RuntimeWarning)\n"
   ]
  },
  {
   "cell_type": "code",
   "execution_count": 4,
   "id": "746cc97a",
   "metadata": {},
   "outputs": [],
   "source": [
    "#Originial center\n",
    "center = np.loadtxt(\"CLL-center.txt\")"
   ]
  },
  {
   "cell_type": "code",
   "execution_count": 5,
   "id": "d0fe55e8",
   "metadata": {},
   "outputs": [],
   "source": [
    "list_to_run = [\"9568\",\n",
    "\"21597\",\n",
    "\"22663\",\n",
    "\"29896\",\n",
    "\"5807\",\n",
    "\"22158\",\n",
    "\"15032\",\n",
    "\"24046\",\n",
    "\"25067\",\n",
    "\"26099\",\n",
    "\"19252\",\n",
    "\"20307\",\n",
    "\"24830\",\n",
    "\"28047\",\n",
    "\"28066\",\n",
    "\"28476\",\n",
    "\"29593\",\n",
    "\"8372\",\n",
    "\"9531\",\n",
    "\"19328\",\n",
    "\"20268\",\n",
    "\"25451\",\n",
    "\"29842\",\n",
    "\"29876\",\n",
    "\"5071\",\n",
    "\"17988\",\n",
    "\"8385\",\n",
    "\"8485\",\n",
    "\"20121\",\n",
    "\"29881\",\n",
    "\"30089\",\n",
    "\"29860\",\n",
    "\"5832\",\n",
    "\"6541\",\n",
    "\"7420\",\n",
    "\"7725\",\n",
    "\"13045\",\n",
    "\"13088\",\n",
    "\"19830\",\n",
    "\"19833\",\n",
    "\"20706\",\n",
    "\"24215\",\n",
    "\"25424\",\n",
    "\"26129\",\n",
    "\"6535\",\n",
    "\"19303\",\n",
    "\"22936\",\n",
    "\"23172\",\n",
    "\"30034\",\n",
    "\"8604\",\n",
    "\"9444\",\n",
    "\"9462\",\n",
    "\"15030\",\n",
    "\"20218\",\n",
    "\"24196\",\n",
    "\"28856\",\n",
    "\"18140\",\n",
    "\"18515\",\n",
    "\"19494\",\n",
    "\"19633\",\n",
    "\"24084\",\n",
    "\"25664\",\n",
    "\"26450\",\n",
    "\"28707\",\n",
    "\"7495\",\n",
    "\"19256\",\n",
    "\"15058\",\n",
    "\"9422\",\n",
    "\"16331\",\n",
    "\"20735\",\n",
    "\"23184\",\n",
    "\"24242\",\n",
    "\"24793\",\n",
    "\"9343\",\n",
    "\"21741\",\n",
    "\"24477\",\n",
    "\"26207\",\n",
    "\"29515\",\n",
    "\"5121\",\n",
    "\"18736\",\n",
    "\"28032\",\n",
    "\"14470\",\n",
    "\"16327\",\n",
    "\"20424\",\n",
    "\"7805\",\n",
    "\"19363\"]"
   ]
  },
  {
   "cell_type": "code",
   "execution_count": 6,
   "id": "74e36e52",
   "metadata": {},
   "outputs": [
    {
     "data": {
      "text/plain": [
       "86"
      ]
     },
     "execution_count": 6,
     "metadata": {},
     "output_type": "execute_result"
    }
   ],
   "source": [
    "len(list_to_run)"
   ]
  },
  {
   "cell_type": "code",
   "execution_count": 7,
   "id": "4ce68fbf",
   "metadata": {},
   "outputs": [],
   "source": [
    "cluster = [6,18,28,44,73,87,25,70,12,15,17,24,56,96]"
   ]
  },
  {
   "cell_type": "code",
   "execution_count": 8,
   "id": "33dc56c4",
   "metadata": {},
   "outputs": [],
   "source": [
    "output = []"
   ]
  },
  {
   "cell_type": "code",
   "execution_count": 9,
   "id": "8e01050e",
   "metadata": {},
   "outputs": [],
   "source": [
    "record = []"
   ]
  },
  {
   "cell_type": "code",
   "execution_count": 10,
   "id": "dda3af4e",
   "metadata": {},
   "outputs": [],
   "source": [
    "proportion = []"
   ]
  },
  {
   "cell_type": "code",
   "execution_count": null,
   "id": "e52eb128",
   "metadata": {
    "scrolled": false
   },
   "outputs": [],
   "source": [
    "for a in list_to_run:\n",
    "\n",
    "    data = pd.read_csv(\"Testing/\"+a+\".txt.txt\",sep = \"\\t\")\n",
    "\n",
    "    #train kmeans with new data\n",
    "    data = data.to_numpy()\n",
    "    kmeans = KMeans(n_clusters=100,init=center, random_state=0, max_iter=2)\n",
    "    kmeans.fit(data)\n",
    "    label = kmeans.labels_\n",
    "    L = label.shape\n",
    "    \n",
    "    \n",
    "    \n",
    "    #record the number of cells in each clusters\n",
    "    (unique, counts) = np.unique(label, return_counts=True)\n",
    "    frequencies = np.asarray((unique, counts)).T\n",
    "\n",
    "    #calculate tumor burden\n",
    "    s = 0\n",
    "    for c in cluster:\n",
    "        s = frequencies[c][1]+s\n",
    "    output.append(s/L)\n",
    "    \n",
    "    #calculate total cell number\n",
    "    \n",
    "    #cell cluster proportion calculation\n",
    "    freqlist = np.empty([1,100])\n",
    "    for f in frequencies:\n",
    "        np.append(freqlist,f[1]/L)\n",
    "    record.append(frequencies)\n",
    "    proportion.append(freqlist)"
   ]
  },
  {
   "cell_type": "code",
   "execution_count": 17,
   "id": "ce225814",
   "metadata": {},
   "outputs": [
    {
     "data": {
      "text/plain": [
       "[0.53556,\n",
       " 0.01415,\n",
       " 0.00628,\n",
       " 0.0028,\n",
       " 0.00876,\n",
       " 0.05407,\n",
       " 0.02795,\n",
       " 0.05246,\n",
       " 0.00162,\n",
       " 0.05984,\n",
       " 0.01543,\n",
       " 0.01767,\n",
       " 0.14087,\n",
       " 0.00187,\n",
       " 0.00712,\n",
       " 0.0006,\n",
       " 0.00498,\n",
       " 0.05253,\n",
       " 0.00478,\n",
       " 0.00842,\n",
       " 0.0035,\n",
       " 0.00087,\n",
       " 0.00317,\n",
       " 0.17184349349247408,\n",
       " 0.00994,\n",
       " 0.00137,\n",
       " 0.00832,\n",
       " 0.00636,\n",
       " 0.009,\n",
       " 0.002030248127160351,\n",
       " 0.16076,\n",
       " 0.01318,\n",
       " 0.11215,\n",
       " 0.00413,\n",
       " 0.31746770210786246,\n",
       " 0.02416,\n",
       " 0.00521,\n",
       " 0.00776,\n",
       " 0.01769,\n",
       " 0.32343,\n",
       " 0.00307,\n",
       " 0.25906,\n",
       " 0.00139,\n",
       " 0.0016,\n",
       " 0.00571,\n",
       " 0.00552,\n",
       " 0.55485,\n",
       " 0.00207,\n",
       " 0.008,\n",
       " 0.009570284739659828,\n",
       " 0.00368,\n",
       " 0.01376,\n",
       " 0.00556,\n",
       " 0.26899,\n",
       " 0.00112,\n",
       " 0.31265,\n",
       " 0.33612,\n",
       " 0.00626,\n",
       " 0.05393,\n",
       " 0.21203,\n",
       " 0.0557,\n",
       " 0.01246,\n",
       " 0.00136,\n",
       " 0.02404,\n",
       " 0.00275,\n",
       " 0.00546,\n",
       " 0.02365,\n",
       " 0.213,\n",
       " 0.0025,\n",
       " 0.08117,\n",
       " 0.00259,\n",
       " 0.00551,\n",
       " 0.25572,\n",
       " 0.15013,\n",
       " 0.03221,\n",
       " 0.08394,\n",
       " 0.00111,\n",
       " 0.0143,\n",
       " 0.05695,\n",
       " 0.00541,\n",
       " 0.00175,\n",
       " 0.01798,\n",
       " 0.0011,\n",
       " 0.42866,\n",
       " 0.01057,\n",
       " 0.28058]"
      ]
     },
     "execution_count": 17,
     "metadata": {},
     "output_type": "execute_result"
    }
   ],
   "source": [
    "a = [float(i) for i in output]\n",
    "a"
   ]
  },
  {
   "cell_type": "code",
   "execution_count": 18,
   "id": "601c2abf",
   "metadata": {},
   "outputs": [],
   "source": [
    "machine = [0.53556,\n",
    " 0.01415,\n",
    " 0.00628,\n",
    " 0.0028,\n",
    " 0.00876,\n",
    " 0.05407,\n",
    " 0.02795,\n",
    " 0.05246,\n",
    " 0.00162,\n",
    " 0.05984,\n",
    " 0.01543,\n",
    " 0.01767,\n",
    " 0.14087,\n",
    " 0.00187,\n",
    " 0.00712,\n",
    " 0.0006,\n",
    " 0.00498,\n",
    " 0.05253,\n",
    " 0.00478,\n",
    " 0.00842,\n",
    " 0.0035,\n",
    " 0.00087,\n",
    " 0.00317,\n",
    " 0.17184349349247408,\n",
    " 0.00994,\n",
    " 0.00137,\n",
    " 0.00832,\n",
    " 0.00636,\n",
    " 0.009,\n",
    " 0.002030248127160351,\n",
    " 0.16076,\n",
    " 0.01318,\n",
    " 0.11215,\n",
    " 0.00413,\n",
    " 0.31746770210786246,\n",
    " 0.02416,\n",
    " 0.00521,\n",
    " 0.00776,\n",
    " 0.01769,\n",
    " 0.32343,\n",
    " 0.00307,\n",
    " 0.25906,\n",
    " 0.00139,\n",
    " 0.0016,\n",
    " 0.00571,\n",
    " 0.00552,\n",
    " 0.55485,\n",
    " 0.00207,\n",
    " 0.008,\n",
    " 0.009570284739659828,\n",
    " 0.00368,\n",
    " 0.01376,\n",
    " 0.00556,\n",
    " 0.26899,\n",
    " 0.00112,\n",
    " 0.31265,\n",
    " 0.33612,\n",
    " 0.00626,\n",
    " 0.05393,\n",
    " 0.21203,\n",
    " 0.0557,\n",
    " 0.01246,\n",
    " 0.00136,\n",
    " 0.02404,\n",
    " 0.00275,\n",
    " 0.00546,\n",
    " 0.02365,\n",
    " 0.213,\n",
    " 0.0025,\n",
    " 0.08117,\n",
    " 0.00259,\n",
    " 0.00551,\n",
    " 0.25572,\n",
    " 0.15013,\n",
    " 0.03221,\n",
    " 0.08394,\n",
    " 0.00111,\n",
    " 0.0143,\n",
    " 0.05695,\n",
    " 0.00541,\n",
    " 0.00175,\n",
    " 0.01798,\n",
    " 0.0011,\n",
    " 0.42866,\n",
    " 0.01057,\n",
    " 0.28058]"
   ]
  },
  {
   "cell_type": "code",
   "execution_count": 19,
   "id": "36a4907f",
   "metadata": {},
   "outputs": [],
   "source": [
    "actual = [0.85,0.02,0,0.003,0,0.065,0,0.065,0.0002,0.136,0,0.0001,0.38,0,0.01,0,0,0.054,0,0,0.0001,0.0005,0.0004,0.26,0,0.0001,0.0001,0,0.0004,0,0.26,0.0008,0.105,0,0.38,0,0,0.011,0.02,0.56,0,0.235,0,0.0001,0,0,0.71,0.0001,0,0,0.004,0,0,0.3,0.0001,0.33,0.4,0.47,0.12,0.43,0.057,0,0.0007,0,0.001,0.006,0.07,0.24,0,0.1,0.00015,0.0042,0.35,0.22,0,0.0087,0.0001,0,0.111,0.01,0,0.016,0.001,0.7,0,0.37]"
   ]
  },
  {
   "cell_type": "code",
   "execution_count": 20,
   "id": "5411f204",
   "metadata": {},
   "outputs": [],
   "source": [
    "color_label = []\n",
    "for a in actual:\n",
    "    if a < 0.0001:\n",
    "        color_label.append('k')\n",
    "    else:\n",
    "        color_label.append('r') "
   ]
  },
  {
   "cell_type": "code",
   "execution_count": 21,
   "id": "bee3c9eb",
   "metadata": {},
   "outputs": [
    {
     "data": {
      "text/plain": [
       "array([[1.        , 0.93183026],\n",
       "       [0.93183026, 1.        ]])"
      ]
     },
     "execution_count": 21,
     "metadata": {},
     "output_type": "execute_result"
    }
   ],
   "source": [
    "np.corrcoef(actual, machine)"
   ]
  },
  {
   "cell_type": "code",
   "execution_count": 22,
   "id": "d3c5b975",
   "metadata": {},
   "outputs": [],
   "source": [
    "xline = [0,0.85]\n",
    "yline = [0,0.85]\n",
    "yvertical = [0.0001, 0.0001]\n",
    "xvertical = [0, 0.9]"
   ]
  },
  {
   "cell_type": "code",
   "execution_count": 23,
   "id": "8a1a3a63",
   "metadata": {},
   "outputs": [],
   "source": [
    "d = {'x':machine,'y':actual}"
   ]
  },
  {
   "cell_type": "code",
   "execution_count": 24,
   "id": "81a7877d",
   "metadata": {},
   "outputs": [],
   "source": [
    "df = pd.DataFrame(d)"
   ]
  },
  {
   "cell_type": "code",
   "execution_count": 25,
   "id": "1b2371c0",
   "metadata": {},
   "outputs": [],
   "source": [
    "colors = np.where(df[\"y\"]<0.0001,'k','r')"
   ]
  },
  {
   "cell_type": "code",
   "execution_count": 26,
   "id": "656efb8d",
   "metadata": {},
   "outputs": [
    {
     "data": {
      "image/png": "[encoded data removed]",
      "text/plain": [
       "<Figure size 576x576 with 1 Axes>"
      ]
     },
     "metadata": {
      "needs_background": "light"
     },
     "output_type": "display_data"
    }
   ],
   "source": [
    "import numpy as np\n",
    "import matplotlib.pyplot as plt\n",
    "\n",
    "fig, ax = plt.subplots(figsize=(8, 8))\n",
    "\n",
    "for x,y, color in zip(machine, actual, color_label):\n",
    "    ax.plot(x,y,'o',color=color, alpha=0.7, picker=True, label = \"Pearson's r = 0.93183026\")\n",
    "\n",
    "ax.plot(xline, yline, '--', label='y=x', alpha=0.5, color = 'k')\n",
    "ax.plot(xvertical, yvertical, '--', label='x=0.01%', alpha=0.5, color = 'k')\n",
    "plt.xlabel(\"Machine predicted tumor burden\")\n",
    "plt.ylabel(\"Doctor labeled tumor burden\")\n",
    "\n",
    "handles, labels = plt.gca().get_legend_handles_labels()\n",
    "by_label = dict(zip(labels, handles))\n",
    "plt.legend(by_label.values(), by_label.keys())\n",
    "#ax.set_xlim(0, 1)\n",
    "#ax.set_ylim(0, 1)\n",
    "plt.show()"
   ]
  }
 ],
 "metadata": {
  "kernelspec": {
   "display_name": "Python 3 (ipykernel)",
   "language": "python",
   "name": "python3"
  },
  "language_info": {
   "codemirror_mode": {
    "name": "ipython",
    "version": 3
   },
   "file_extension": ".py",
   "mimetype": "text/x-python",
   "name": "python",
   "nbconvert_exporter": "python",
   "pygments_lexer": "ipython3",
   "version": "3.9.5"
  }
 },
 "nbformat": 4,
 "nbformat_minor": 5
}
