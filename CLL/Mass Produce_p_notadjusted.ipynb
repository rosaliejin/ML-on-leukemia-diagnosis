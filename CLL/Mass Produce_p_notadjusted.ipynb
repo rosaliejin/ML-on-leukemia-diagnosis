{
 "cells": [
  {
   "cell_type": "markdown",
   "id": "37f425dc",
   "metadata": {},
   "source": [
    "Code usinng for removing the last column:\n",
    " for i in *.txt; do rev $i | cut -d$'\\t' -f 2- | rev > $i.txt; done"
   ]
  },
  {
   "cell_type": "code",
   "execution_count": 1,
   "id": "4efc4c39",
   "metadata": {},
   "outputs": [],
   "source": [
    "import numpy as np\n",
    "np.set_printoptions(suppress=True)\n",
    "import pandas as pd\n",
    "from sklearn.cluster import KMeans\n",
    "from scipy.stats import ranksums"
   ]
  },
  {
   "cell_type": "code",
   "execution_count": 2,
   "id": "8ea5e339",
   "metadata": {},
   "outputs": [],
   "source": [
    "import warnings\n",
    "warnings.filterwarnings(\"ignore\", category=FutureWarning)\n",
    "warnings.filterwarnings(\"ignore\", category=DeprecationWarning)\n",
    "warnings.filterwarnings(\"ignore\", category=RuntimeWarning)\n"
   ]
  },
  {
   "cell_type": "code",
   "execution_count": 3,
   "id": "746cc97a",
   "metadata": {},
   "outputs": [],
   "source": [
    "#Originial center\n",
    "center = np.loadtxt(\"CLL-center.txt\")"
   ]
  },
  {
   "cell_type": "code",
   "execution_count": 4,
   "id": "d0fe55e8",
   "metadata": {},
   "outputs": [],
   "source": [
    "list_to_run = [\"9568\",\n",
    "\"21597\",\n",
    "\"22663\",\n",
    "\"29896\",\n",
    "\"5807\",\n",
    "\"22158\",\n",
    "\"15032\",\n",
    "\"24046\",\n",
    "\"25067\",\n",
    "\"26099\",\n",
    "\"19252\",\n",
    "\"20307\",\n",
    "\"24830\",\n",
    "\"28047\",\n",
    "\"28066\",\n",
    "\"28476\",\n",
    "\"29593\",\n",
    "\"8372\",\n",
    "\"9531\",\n",
    "\"19328\",\n",
    "\"20268\",\n",
    "\"25451\",\n",
    "\"29842\",\n",
    "\"29876\",\n",
    "\"5071\",\n",
    "\"17988\",\n",
    "\"8385\",\n",
    "\"8485\",\n",
    "\"20121\",\n",
    "\"29881\",\n",
    "\"30089\",\n",
    "\"29860\",\n",
    "\"5832\",\n",
    "\"6541\",\n",
    "\"7420\",\n",
    "\"7725\",\n",
    "\"13045\",\n",
    "\"13088\",\n",
    "\"19830\",\n",
    "\"19833\",\n",
    "\"20706\",\n",
    "\"24215\",\n",
    "\"25424\",\n",
    "\"26129\",\n",
    "\"6535\",\n",
    "\"19303\",\n",
    "\"22936\",\n",
    "\"23172\",\n",
    "\"30034\",\n",
    "\"8604\",\n",
    "\"9444\",\n",
    "\"9462\",\n",
    "\"15030\",\n",
    "\"20218\",\n",
    "\"24196\",\n",
    "\"28856\",\n",
    "\"18140\",\n",
    "\"18515\",\n",
    "\"19494\",\n",
    "\"19633\",\n",
    "\"24084\",\n",
    "\"25664\",\n",
    "\"26450\",\n",
    "\"28707\",\n",
    "\"7495\",\n",
    "\"19256\",\n",
    "\"15058\",\n",
    "\"9422\",\n",
    "\"16331\",\n",
    "\"20735\",\n",
    "\"23184\",\n",
    "\"24242\",\n",
    "\"24793\",\n",
    "\"9343\",\n",
    "\"21741\",\n",
    "\"24477\",\n",
    "\"26207\",\n",
    "\"29515\",\n",
    "\"5121\",\n",
    "\"18736\",\n",
    "\"28032\",\n",
    "\"14470\",\n",
    "\"16327\",\n",
    "\"20424\",\n",
    "\"7805\",\n",
    "\"19363\"]"
   ]
  },
  {
   "cell_type": "code",
   "execution_count": 5,
   "id": "74e36e52",
   "metadata": {},
   "outputs": [
    {
     "data": {
      "text/plain": [
       "86"
      ]
     },
     "execution_count": 5,
     "metadata": {},
     "output_type": "execute_result"
    }
   ],
   "source": [
    "len(list_to_run)"
   ]
  },
  {
   "cell_type": "code",
   "execution_count": 6,
   "id": "4ce68fbf",
   "metadata": {},
   "outputs": [],
   "source": [
    "\n",
    "cluster = [6,18,28,44,73,87,25,70,12,15,17,24,56,96,46,58,93,14,74,1,81]"
   ]
  },
  {
   "cell_type": "code",
   "execution_count": 7,
   "id": "33dc56c4",
   "metadata": {},
   "outputs": [],
   "source": [
    "output = []"
   ]
  },
  {
   "cell_type": "code",
   "execution_count": 8,
   "id": "8e01050e",
   "metadata": {},
   "outputs": [],
   "source": [
    "record = []"
   ]
  },
  {
   "cell_type": "code",
   "execution_count": 9,
   "id": "dda3af4e",
   "metadata": {},
   "outputs": [],
   "source": [
    "proportion = []"
   ]
  },
  {
   "cell_type": "code",
   "execution_count": 12,
   "id": "e52eb128",
   "metadata": {
    "scrolled": false
   },
   "outputs": [],
   "source": [
    "for a in list_to_run:\n",
    "\n",
    "    data = pd.read_csv(\"Testing/\"+a+\".txt.txt\",sep = \"\\t\")\n",
    "    #data = data.to_numpy()\n",
    "\n",
    "    #train kmeans with new data\n",
    "    data = data.to_numpy()\n",
    "    kmeans = KMeans(n_clusters=100,init=center, random_state=0, max_iter=2)\n",
    "    kmeans.fit(data)\n",
    "    label = kmeans.labels_\n",
    "    L = label.shape\n",
    "    \n",
    "    \n",
    "    \n",
    "    #record the number of cells in each clusters\n",
    "    (unique, counts) = np.unique(label, return_counts=True)\n",
    "    frequencies = np.asarray((unique, counts)).T\n",
    "\n",
    "    #calculate tumor burden\n",
    "    s = 0\n",
    "    for c in cluster:\n",
    "        s = frequencies[c][1]+s\n",
    "    output.append(s/L)\n",
    "    \n",
    "    #calculate total cell number\n",
    "    \n",
    "    #cell cluster proportion calculation\n",
    "    freqlist = np.empty([1,100])\n",
    "    for f in frequencies:\n",
    "        np.append(freqlist,f[1]/L)\n",
    "    record.append(frequencies)\n",
    "    proportion.append(freqlist)"
   ]
  },
  {
   "cell_type": "code",
   "execution_count": 13,
   "id": "ce225814",
   "metadata": {},
   "outputs": [
    {
     "data": {
      "text/plain": [
       "[0.77284,\n",
       " 0.03558,\n",
       " 0.01253,\n",
       " 0.00524,\n",
       " 0.02475,\n",
       " 0.08205,\n",
       " 0.03046,\n",
       " 0.07517,\n",
       " 0.00614,\n",
       " 0.07725,\n",
       " 0.0225,\n",
       " 0.03599,\n",
       " 0.23842,\n",
       " 0.00401,\n",
       " 0.01005,\n",
       " 0.00362,\n",
       " 0.0117,\n",
       " 0.06313,\n",
       " 0.00761,\n",
       " 0.0125,\n",
       " 0.00999,\n",
       " 0.00318,\n",
       " 0.01728,\n",
       " 0.21410676823431166,\n",
       " 0.01263,\n",
       " 0.00349,\n",
       " 0.01614,\n",
       " 0.0113,\n",
       " 0.02903,\n",
       " 0.028808963930971564,\n",
       " 0.26513,\n",
       " 0.04401,\n",
       " 0.1397,\n",
       " 0.00705,\n",
       " 0.37440503882904486,\n",
       " 0.04954,\n",
       " 0.01068,\n",
       " 0.01169,\n",
       " 0.02139,\n",
       " 0.42849,\n",
       " 0.00667,\n",
       " 0.28704,\n",
       " 0.00375,\n",
       " 0.00418,\n",
       " 0.01036,\n",
       " 0.01056,\n",
       " 0.77419,\n",
       " 0.00575,\n",
       " 0.01687,\n",
       " 0.01710333064859999,\n",
       " 0.00497,\n",
       " 0.03548,\n",
       " 0.01064,\n",
       " 0.41645,\n",
       " 0.00345,\n",
       " 0.39749,\n",
       " 0.3945,\n",
       " 0.01846,\n",
       " 0.08312,\n",
       " 0.34502,\n",
       " 0.0631,\n",
       " 0.01781,\n",
       " 0.00628,\n",
       " 0.05042,\n",
       " 0.01308,\n",
       " 0.00848,\n",
       " 0.03799,\n",
       " 0.25056,\n",
       " 0.00371,\n",
       " 0.11831,\n",
       " 0.00488,\n",
       " 0.00888,\n",
       " 0.35997,\n",
       " 0.18266,\n",
       " 0.06918,\n",
       " 0.09832,\n",
       " 0.00298,\n",
       " 0.03279,\n",
       " 0.08297,\n",
       " 0.01112,\n",
       " 0.00574,\n",
       " 0.02894,\n",
       " 0.00191,\n",
       " 0.72227,\n",
       " 0.02637,\n",
       " 0.42867]"
      ]
     },
     "execution_count": 13,
     "metadata": {},
     "output_type": "execute_result"
    }
   ],
   "source": [
    "a = [float(i) for i in output]\n",
    "a"
   ]
  },
  {
   "cell_type": "code",
   "execution_count": 14,
   "id": "601c2abf",
   "metadata": {},
   "outputs": [],
   "source": [
    "machine = [0.77284,\n",
    " 0.03558,\n",
    " 0.01253,\n",
    " 0.00524,\n",
    " 0.02475,\n",
    " 0.08205,\n",
    " 0.03046,\n",
    " 0.07517,\n",
    " 0.00614,\n",
    " 0.07725,\n",
    " 0.0225,\n",
    " 0.03599,\n",
    " 0.23842,\n",
    " 0.00401,\n",
    " 0.01005,\n",
    " 0.00362,\n",
    " 0.0117,\n",
    " 0.06313,\n",
    " 0.00761,\n",
    " 0.0125,\n",
    " 0.00999,\n",
    " 0.00318,\n",
    " 0.01728,\n",
    " 0.21410676823431166,\n",
    " 0.01263,\n",
    " 0.00349,\n",
    " 0.01614,\n",
    " 0.0113,\n",
    " 0.02903,\n",
    " 0.028808963930971564,\n",
    " 0.26513,\n",
    " 0.04401,\n",
    " 0.1397,\n",
    " 0.00705,\n",
    " 0.37440503882904486,\n",
    " 0.04954,\n",
    " 0.01068,\n",
    " 0.01169,\n",
    " 0.02139,\n",
    " 0.42849,\n",
    " 0.00667,\n",
    " 0.28704,\n",
    " 0.00375,\n",
    " 0.00418,\n",
    " 0.01036,\n",
    " 0.01056,\n",
    " 0.77419,\n",
    " 0.00575,\n",
    " 0.01687,\n",
    " 0.01710333064859999,\n",
    " 0.00497,\n",
    " 0.03548,\n",
    " 0.01064,\n",
    " 0.41645,\n",
    " 0.00345,\n",
    " 0.39749,\n",
    " 0.3945,\n",
    " 0.01846,\n",
    " 0.08312,\n",
    " 0.34502,\n",
    " 0.0631,\n",
    " 0.01781,\n",
    " 0.00628,\n",
    " 0.05042,\n",
    " 0.01308,\n",
    " 0.00848,\n",
    " 0.03799,\n",
    " 0.25056,\n",
    " 0.00371,\n",
    " 0.11831,\n",
    " 0.00488,\n",
    " 0.00888,\n",
    " 0.35997,\n",
    " 0.18266,\n",
    " 0.06918,\n",
    " 0.09832,\n",
    " 0.00298,\n",
    " 0.03279,\n",
    " 0.08297,\n",
    " 0.01112,\n",
    " 0.00574,\n",
    " 0.02894,\n",
    " 0.00191,\n",
    " 0.72227,\n",
    " 0.02637,\n",
    " 0.42867]"
   ]
  },
  {
   "cell_type": "code",
   "execution_count": 15,
   "id": "36a4907f",
   "metadata": {},
   "outputs": [],
   "source": [
    "actual = [0.85,0.02,0,0.003,0,0.065,0,0.065,0.0002,0.136,0,0.0001,0.38,0,0.01,0,0,0.054,0,0,0.0001,0.0005,0.0004,0.26,0,0.0001,0.0001,0,0.0004,0,0.26,0.0008,0.105,0,0.38,0,0,0.011,0.02,0.56,0,0.235,0,0.0001,0,0,0.71,0.0001,0,0,0.004,0,0,0.3,0.0001,0.33,0.4,0.47,0.12,0.43,0.057,0,0.0007,0,0.001,0.006,0.07,0.24,0,0.1,0.00015,0.0042,0.35,0.22,0,0.0087,0.0001,0,0.111,0.01,0,0.016,0.001,0.7,0,0.37]"
   ]
  },
  {
   "cell_type": "code",
   "execution_count": 16,
   "id": "5411f204",
   "metadata": {},
   "outputs": [],
   "source": [
    "color_label = []\n",
    "for a in actual:\n",
    "    if a < 0.0001:\n",
    "        color_label.append('k')\n",
    "    else:\n",
    "        color_label.append('r') "
   ]
  },
  {
   "cell_type": "code",
   "execution_count": 17,
   "id": "bee3c9eb",
   "metadata": {},
   "outputs": [
    {
     "data": {
      "text/plain": [
       "array([[1.       , 0.9420088],\n",
       "       [0.9420088, 1.       ]])"
      ]
     },
     "execution_count": 17,
     "metadata": {},
     "output_type": "execute_result"
    }
   ],
   "source": [
    "np.corrcoef(actual, machine)"
   ]
  },
  {
   "cell_type": "code",
   "execution_count": 18,
   "id": "d3c5b975",
   "metadata": {},
   "outputs": [],
   "source": [
    "xline = [0,0.85]\n",
    "yline = [0,0.85]\n",
    "yvertical = [0.0001, 0.0001]\n",
    "xvertical = [0, 0.9]"
   ]
  },
  {
   "cell_type": "code",
   "execution_count": 19,
   "id": "8a1a3a63",
   "metadata": {},
   "outputs": [],
   "source": [
    "d = {'x':machine,'y':actual}"
   ]
  },
  {
   "cell_type": "code",
   "execution_count": 20,
   "id": "81a7877d",
   "metadata": {},
   "outputs": [],
   "source": [
    "df = pd.DataFrame(d)"
   ]
  },
  {
   "cell_type": "code",
   "execution_count": 21,
   "id": "1b2371c0",
   "metadata": {},
   "outputs": [],
   "source": [
    "colors = np.where(df[\"y\"]<0.0001,'k','r')"
   ]
  },
  {
   "cell_type": "code",
   "execution_count": 22,
   "id": "656efb8d",
   "metadata": {},
   "outputs": [
    {
     "data": {
      "image/png": "[encoded data removed]",
      "text/plain": [
       "<Figure size 576x576 with 1 Axes>"
      ]
     },
     "metadata": {
      "needs_background": "light"
     },
     "output_type": "display_data"
    }
   ],
   "source": [
    "import numpy as np\n",
    "import matplotlib.pyplot as plt\n",
    "\n",
    "fig, ax = plt.subplots(figsize=(8, 8))\n",
    "\n",
    "for x,y, color in zip(machine, actual, color_label):\n",
    "    ax.plot(x,y,'o',color=color, alpha=0.7, picker=True, label = \"Pearson's r = 0.9420088\")\n",
    "\n",
    "ax.plot(xline, yline, '--', label='y=x', alpha=0.5, color = 'k')\n",
    "ax.plot(xvertical, yvertical, '--', label='x=0.01%', alpha=0.5, color = 'k')\n",
    "plt.xlabel(\"Machine predicted tumor burden\")\n",
    "plt.ylabel(\"Doctor labeled tumor burden\")\n",
    "\n",
    "handles, labels = plt.gca().get_legend_handles_labels()\n",
    "by_label = dict(zip(labels, handles))\n",
    "plt.legend(by_label.values(), by_label.keys())\n",
    "#ax.set_xlim(0, 1)\n",
    "#ax.set_ylim(0, 1)\n",
    "plt.show()"
   ]
  }
 ],
 "metadata": {
  "kernelspec": {
   "display_name": "Python 3 (ipykernel)",
   "language": "python",
   "name": "python3"
  },
  "language_info": {
   "codemirror_mode": {
    "name": "ipython",
    "version": 3
   },
   "file_extension": ".py",
   "mimetype": "text/x-python",
   "name": "python",
   "nbconvert_exporter": "python",
   "pygments_lexer": "ipython3",
   "version": "3.9.5"
  }
 },
 "nbformat": 4,
 "nbformat_minor": 5
}
